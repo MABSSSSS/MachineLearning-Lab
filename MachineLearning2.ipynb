{
 "cells": [
  {
   "cell_type": "code",
   "execution_count": 19,
   "metadata": {},
   "outputs": [],
   "source": [
    "import pandas as pd\n",
    "\n",
    "\n",
    "\n",
    "url = \"https://archive.ics.uci.edu/ml/machine-learning-databases/iris/iris.data\""
   ]
  },
  {
   "cell_type": "code",
   "execution_count": null,
   "metadata": {},
   "outputs": [],
   "source": [
    "column_names = ['sepal_length', 'sepal_width', 'petal_length', 'petal_width', 'class']\n",
    "df = pd.read_csv(url, names=column_names)\n",
    "print(df.head())"
   ]
  },
  {
   "cell_type": "code",
   "execution_count": null,
   "metadata": {},
   "outputs": [],
   "source": [
    "print(df.isnull().sum())\n",
    "\n",
    "print(df[df.isnull().any(axis=1)])"
   ]
  },
  {
   "cell_type": "code",
   "execution_count": 21,
   "metadata": {},
   "outputs": [],
   "source": [
    "df.fillna(df.select_dtypes(include=['number']).mean(), inplace=True)\n",
    "\n",
    "df.fillna(0, inplace=True)"
   ]
  },
  {
   "cell_type": "code",
   "execution_count": null,
   "metadata": {},
   "outputs": [],
   "source": [
    "\n",
    "# Access a specific column correctly\n",
    "print(df['sepal_length'])  # Replace 'column_names' with actual column name\n",
    "\n",
    "# Print first row using iloc\n",
    "print(df.iloc[0])\n",
    "\n",
    "# Access multiple columns and print the first 5 rows\n",
    "print(df[['sepal_length', 'sepal_width']].head())  # Replace 'column1', 'column2' with actual column names"
   ]
  },
  {
   "cell_type": "code",
   "execution_count": null,
   "metadata": {},
   "outputs": [],
   "source": [
    "import matplotlib.pyplot as plt\n",
    "\n",
    "\n",
    "# Plot histograms for all numerical columns\n",
    "df.hist(bins=50, figsize=(20, 15))\n",
    "\n",
    "# Show the plot\n",
    "plt.show()\n",
    "\n"
   ]
  },
  {
   "cell_type": "code",
   "execution_count": null,
   "metadata": {},
   "outputs": [],
   "source": [
    "import seaborn as sns\n",
    "sns.scatterplot(x='column1',y='column2', data=df)\n",
    "plt.title('Scatter Plot of Column1 vs Column2')\n",
    "plt.show()"
   ]
  },
  {
   "cell_type": "code",
   "execution_count": null,
   "metadata": {},
   "outputs": [],
   "source": [
    "from scipy import stats \n",
    "\n",
    "df['z_score'] = stats.zscore(df['column_name'])\n",
    "\n",
    "print(df[df['z_score'].abs() > 3])"
   ]
  },
  {
   "cell_type": "code",
   "execution_count": null,
   "metadata": {},
   "outputs": [],
   "source": [
    "plt.figure(figsize =(10, 6))\n",
    "sns.scatterplot(x='colmn1', y='column2', hue =(df['z_score'].abs() > 3), data=df)\n",
    "plt.title('Anomalies in Dataset')\n",
    "plt.show()"
   ]
  },
  {
   "cell_type": "code",
   "execution_count": null,
   "metadata": {},
   "outputs": [],
   "source": [
    "pip install Pillow matpotlib"
   ]
  },
  {
   "cell_type": "code",
   "execution_count": null,
   "metadata": {},
   "outputs": [],
   "source": [
    "from PIL import Image \n",
    "import matplotlib.pyplot as plt \n",
    "\n",
    "image_path = 'your_image.jpg'\n",
    "path_image = Image.open(image_path)\n",
    "\n",
    "plt.imshow(image)\n",
    "plt.axis('off')\n",
    "plt.show()\n",
    "\n",
    "print(f\"Image Format: {image.format}\")\n",
    "print(f\"Image Size: {image.size} (width, height)\")\n",
    "print(f\"Image Mode : {image.mode}\")\n",
    "\n",
    "pixels = image.load()\n",
    "\n",
    "print(f\"Pixel at (10,10): {pixels[10,10]}\")\n"
   ]
  },
  {
   "cell_type": "markdown",
   "metadata": {},
   "source": [
    "LAB PRACTICE simple linear regression model,training and testing data"
   ]
  },
  {
   "cell_type": "code",
   "execution_count": null,
   "metadata": {},
   "outputs": [],
   "source": [
    "import pandas as pd \n",
    "import numpy as np \n",
    "import matplotlib.pyplot as plt \n",
    "import seaborn as sns\n",
    "from sklearn.linear_model import Logistic LogisticsRegression\n",
    "from sklearn.metrics import accuracy_score, confusion_matrix,precision_score, recall_score,f1_score, roc_curve, roc_auc_score\n",
    "\n",
    "\n",
    "url = \"/content/iris-II.csv\"\n",
    "iris = pd.read_csv(url)\n",
    "\n",
    "\n",
    "iris['Species'] = iris['species'].apply(lambda x: l if x == 'setosa' else 0)\n",
    "\n",
    "x = iris[['sepal_length', 'sepal_width', 'petal_length', 'petal_width']]\n",
    "y = iris['Species']\n",
    "\n",
    "x_train,x_test, y_train, y_tesy, y_test = train_test_split(x , y, test_size=0.2, random_state=42)\n",
    "\n",
    "model = LogisticRegression()\n",
    "model.fit(x_train, y_train)\n",
    "\n",
    "y_pred = model.predict(x_test)\n",
    "\n",
    "Score_accuracy = accuracy_score(y_test, y_pred)\n",
    "precision =recall_score(y_test, y_pred)\n",
    "\n",
    "f1 = f1_score(y_test, y_pred)\n",
    "\n",
    "print(f\"Accuracy: (accuracy)\")\n",
    "print(f\"Precision: (precision)\")\n",
    "print(f\"Recall: {recall}\")\n",
    "print(f\"F1 Score: {f1}\")\n",
    "\n",
    "\n",
    "cm = confusion_matrix(y_test, y_pred)\n",
    "sns.heatmap(cm , annot=True, fmt=\"d\", cmap = \"Blues\")\n",
    "plt.title(\"Confusion Matrix\")\n",
    "plt.xlabel(\"Predicted\")\n",
    "plt.ylabel(\"Actual\")\n",
    "plt.show()\n",
    "\n",
    "train_accuracy = model.score(x_train, y_train)\n",
    "test_accuracy = model.score(x_test, y_test)\n",
    "\n",
    "plt.bar(['Train Accuracy ', 'Test Accuracy'], [train_accuracy, test_accuracy],color=['blue','green'])\n",
    "\n",
    "plt.title('Traiin vs Test Accuracy')\n",
    "plt.show()\n"
   ]
  },
  {
   "cell_type": "code",
   "execution_count": null,
   "metadata": {},
   "outputs": [],
   "source": []
  }
 ],
 "metadata": {
  "kernelspec": {
   "display_name": "Python 3",
   "language": "python",
   "name": "python3"
  },
  "language_info": {
   "codemirror_mode": {
    "name": "ipython",
    "version": 3
   },
   "file_extension": ".py",
   "mimetype": "text/x-python",
   "name": "python",
   "nbconvert_exporter": "python",
   "pygments_lexer": "ipython3",
   "version": "3.12.6"
  }
 },
 "nbformat": 4,
 "nbformat_minor": 2
}
