{
  "nbformat": 4,
  "nbformat_minor": 0,
  "metadata": {
    "colab": {
      "provenance": []
    },
    "kernelspec": {
      "name": "python3",
      "display_name": "Python 3"
    },
    "language_info": {
      "name": "python"
    }
  },
  "cells": [
    {
      "cell_type": "code",
      "execution_count": 2,
      "metadata": {
        "colab": {
          "base_uri": "https://localhost:8080/"
        },
        "id": "4X7s79G-bqpF",
        "outputId": "a08ec276-d3d9-461d-8fc2-9dcd0434aff5"
      },
      "outputs": [
        {
          "output_type": "stream",
          "name": "stdout",
          "text": [
            "Requirement already satisfied: numpy in /usr/local/lib/python3.10/dist-packages (1.26.4)\n",
            "Requirement already satisfied: pandas in /usr/local/lib/python3.10/dist-packages (2.1.4)\n",
            "Requirement already satisfied: numpy<2,>=1.22.4 in /usr/local/lib/python3.10/dist-packages (from pandas) (1.26.4)\n",
            "Requirement already satisfied: python-dateutil>=2.8.2 in /usr/local/lib/python3.10/dist-packages (from pandas) (2.8.2)\n",
            "Requirement already satisfied: pytz>=2020.1 in /usr/local/lib/python3.10/dist-packages (from pandas) (2024.1)\n",
            "Requirement already satisfied: tzdata>=2022.1 in /usr/local/lib/python3.10/dist-packages (from pandas) (2024.1)\n",
            "Requirement already satisfied: six>=1.5 in /usr/local/lib/python3.10/dist-packages (from python-dateutil>=2.8.2->pandas) (1.16.0)\n"
          ]
        }
      ],
      "source": [
        "!pip install numpy\n",
        "!pip install pandas"
      ]
    },
    {
      "cell_type": "code",
      "source": [
        "import numpy as np\n",
        "\n"
      ],
      "metadata": {
        "id": "M97yOvz3dCdT"
      },
      "execution_count": 3,
      "outputs": []
    },
    {
      "cell_type": "code",
      "source": [
        "arr = np.array([1,2,3,4,5])\n",
        "print(arr* 2)"
      ],
      "metadata": {
        "colab": {
          "base_uri": "https://localhost:8080/"
        },
        "id": "G-DeokCFdNFq",
        "outputId": "35117eef-f723-4c08-cc04-ddb00a440c28"
      },
      "execution_count": 4,
      "outputs": [
        {
          "output_type": "stream",
          "name": "stdout",
          "text": [
            "[ 2  4  6  8 10]\n"
          ]
        }
      ]
    },
    {
      "cell_type": "code",
      "source": [
        "import pandas as pd\n",
        "data= {\"Name\":[\"Abdullah\",\"Ali\",\"Ahmed\"],\"Age\":[23,45,67]}\n",
        "df =pd.DataFrame(data)\n",
        "print(df)"
      ],
      "metadata": {
        "colab": {
          "base_uri": "https://localhost:8080/"
        },
        "id": "ll8PJ1NTdpwX",
        "outputId": "be5e3f4a-0ebb-45a1-8c54-52c30532b19e"
      },
      "execution_count": 5,
      "outputs": [
        {
          "output_type": "stream",
          "name": "stdout",
          "text": [
            "       Name  Age\n",
            "0  Abdullah   23\n",
            "1       Ali   45\n",
            "2     Ahmed   67\n"
          ]
        }
      ]
    },
    {
      "cell_type": "markdown",
      "source": [
        "Performing lab Tasks"
      ],
      "metadata": {
        "id": "0pCEmWQweomW"
      }
    },
    {
      "cell_type": "code",
      "source": [
        "one =1\n",
        "two=2\n",
        "\n",
        "if one> two:\n",
        "   print(one)\n",
        "else:\n",
        "   print(two)\n"
      ],
      "metadata": {
        "colab": {
          "base_uri": "https://localhost:8080/"
        },
        "id": "YbtBI4ZtersZ",
        "outputId": "da3f6b01-7118-4715-8cb8-625cb0ff02cf"
      },
      "execution_count": 8,
      "outputs": [
        {
          "output_type": "stream",
          "name": "stdout",
          "text": [
            "2\n"
          ]
        }
      ]
    },
    {
      "cell_type": "code",
      "source": [
        "List =['Ali','Abdullah','Ahmed','Saad','Sanaullah']\n",
        "print(List[0:3])"
      ],
      "metadata": {
        "colab": {
          "base_uri": "https://localhost:8080/"
        },
        "id": "vg6Py2ahfXyg",
        "outputId": "83e20db8-35c2-447e-d495-fe6b67a98c14"
      },
      "execution_count": 13,
      "outputs": [
        {
          "output_type": "stream",
          "name": "stdout",
          "text": [
            "['Ali', 'Abdullah', 'Ahmed']\n"
          ]
        }
      ]
    },
    {
      "cell_type": "code",
      "source": [
        "def func():\n",
        "  on=4\n",
        "  we=6\n",
        "  sum=on * we\n",
        "  print(sum)\n",
        "\n",
        "output=func()\n",
        "print(output)"
      ],
      "metadata": {
        "colab": {
          "base_uri": "https://localhost:8080/"
        },
        "id": "SjBCw4_Hf3H-",
        "outputId": "f35ad4cb-f591-4ae5-df60-f22632b5278f"
      },
      "execution_count": 15,
      "outputs": [
        {
          "output_type": "stream",
          "name": "stdout",
          "text": [
            "24\n",
            "None\n"
          ]
        }
      ]
    },
    {
      "cell_type": "code",
      "source": [
        "arr = np.arange(1, 11)  # Numbers from 1 to 10 (inclusive)\n",
        "\n",
        "# Calculate the sum of the array\n",
        "arr_sum = np.sum(arr)\n",
        "\n",
        "print(\"Array:\", arr)\n",
        "print(\"Sum:\", arr_sum)"
      ],
      "metadata": {
        "colab": {
          "base_uri": "https://localhost:8080/"
        },
        "id": "0NCBkWm9g1rZ",
        "outputId": "c5d8cdc2-0a49-4538-aa42-7ac1847ba724"
      },
      "execution_count": 16,
      "outputs": [
        {
          "output_type": "stream",
          "name": "stdout",
          "text": [
            "Array: [ 1  2  3  4  5  6  7  8  9 10]\n",
            "Sum: 55\n"
          ]
        }
      ]
    },
    {
      "cell_type": "code",
      "source": [
        "data = {\n",
        "    'name': ['Ali', 'Ahmed', 'Sara', 'Zain'],\n",
        "    'score': [85, 90, 95, 88]\n",
        "}\n",
        "\n",
        "# Create a Pandas DataFrame from the dictionary\n",
        "df = pd.DataFrame(data)\n",
        "\n",
        "# Print the first two rows\n",
        "print(df[0:2])"
      ],
      "metadata": {
        "colab": {
          "base_uri": "https://localhost:8080/"
        },
        "id": "NA8UeGcUhcpE",
        "outputId": "9fa158b1-fa6e-4cec-e3da-d2d7807791fe"
      },
      "execution_count": 18,
      "outputs": [
        {
          "output_type": "stream",
          "name": "stdout",
          "text": [
            "    name  score\n",
            "0    Ali     85\n",
            "1  Ahmed     90\n"
          ]
        }
      ]
    },
    {
      "cell_type": "markdown",
      "source": [
        "HOMEWORK Task:1\n"
      ],
      "metadata": {
        "id": "KPDDg2MLicGr"
      }
    },
    {
      "cell_type": "code",
      "source": [
        "n= input(\"Enter the first two numbers\\n\")\n",
        "print(n)\n",
        "b= input(\"\\nEnter second number\\n\")\n",
        "print(b)\n",
        "c = input(\"\\nEnter third number\\n\")\n",
        "print(c)\n",
        "n = float(n)\n",
        "b = float(b)\n",
        "c = float(c)\n",
        "def calculate_average(x, y, z):\n",
        "     a = (x + y + z) / 3\n",
        "     print(\"Average:\", a)\n",
        "\n",
        "calculate_average(n,b,c)"
      ],
      "metadata": {
        "colab": {
          "base_uri": "https://localhost:8080/"
        },
        "id": "OuCXaFnBigJ5",
        "outputId": "0adbe990-7fdc-4bd0-fe6f-ec1339dac4a1"
      },
      "execution_count": 24,
      "outputs": [
        {
          "output_type": "stream",
          "name": "stdout",
          "text": [
            "Enter the first two numbers\n",
            "1\n",
            "1\n",
            "\n",
            "Enter second number\n",
            "2\n",
            "2\n",
            "\n",
            "Enter third number\n",
            "3\n",
            "3\n",
            "Average: 2.0\n"
          ]
        }
      ]
    },
    {
      "cell_type": "code",
      "source": [
        "for i in range(11):\n",
        "  if (i%2)==0:\n",
        "    print(i)"
      ],
      "metadata": {
        "colab": {
          "base_uri": "https://localhost:8080/"
        },
        "id": "HLKZOMzgjd_M",
        "outputId": "f48ccf12-29de-403c-9718-8432c3ee3299"
      },
      "execution_count": 25,
      "outputs": [
        {
          "output_type": "stream",
          "name": "stdout",
          "text": [
            "0\n",
            "2\n",
            "4\n",
            "6\n",
            "8\n",
            "10\n"
          ]
        }
      ]
    },
    {
      "cell_type": "markdown",
      "source": [
        "HOME TASK:2\n"
      ],
      "metadata": {
        "id": "e3xgr_VCnqjh"
      }
    },
    {
      "cell_type": "code",
      "source": [
        "# Create a numpy array of random numbers (size 10)\n",
        "random_numbers = np.random.rand(10)\n",
        "\n",
        "# Calculate the standard deviation\n",
        "std_deviation = np.std(random_numbers)\n",
        "\n",
        "print(\"Random Numbers:\", random_numbers)\n",
        "print(\"Standard Deviation:\", std_deviation)"
      ],
      "metadata": {
        "colab": {
          "base_uri": "https://localhost:8080/"
        },
        "id": "UTRyhYeXnjXR",
        "outputId": "64f8999b-676d-4148-b756-ed041ea027af"
      },
      "execution_count": 26,
      "outputs": [
        {
          "output_type": "stream",
          "name": "stdout",
          "text": [
            "Random Numbers: [0.61876262 0.4132365  0.55864135 0.11883789 0.22396389 0.95349761\n",
            " 0.7994645  0.60373142 0.94795015 0.00384275]\n",
            "Standard Deviation: 0.3152188824448301\n"
          ]
        }
      ]
    },
    {
      "cell_type": "code",
      "source": [
        "\n",
        "\n",
        "# Load dataset from an online source (Titanic dataset from GitHub)\n",
        "url = \"https://raw.githubusercontent.com/datasciencedojo/datasets/master/titanic.csv\"\n",
        "\n",
        "# Load the dataset into a DataFrame\n",
        "df = pd.read_csv(url)\n",
        "\n",
        "# Print the column names\n",
        "print(\"Column Names:\", df.columns)\n",
        "\n",
        "# Display summary statistics for numerical columns\n",
        "print(\"\\nSummary Statistics for Numerical Columns:\")\n",
        "print(df.describe())"
      ],
      "metadata": {
        "colab": {
          "base_uri": "https://localhost:8080/"
        },
        "id": "6g_CHJBVp3kO",
        "outputId": "ffda3780-5e63-4af8-f24d-58032db983eb"
      },
      "execution_count": 28,
      "outputs": [
        {
          "output_type": "stream",
          "name": "stdout",
          "text": [
            "Column Names: Index(['PassengerId', 'Survived', 'Pclass', 'Name', 'Sex', 'Age', 'SibSp',\n",
            "       'Parch', 'Ticket', 'Fare', 'Cabin', 'Embarked'],\n",
            "      dtype='object')\n",
            "\n",
            "Summary Statistics for Numerical Columns:\n",
            "       PassengerId    Survived      Pclass         Age       SibSp  \\\n",
            "count   891.000000  891.000000  891.000000  714.000000  891.000000   \n",
            "mean    446.000000    0.383838    2.308642   29.699118    0.523008   \n",
            "std     257.353842    0.486592    0.836071   14.526497    1.102743   \n",
            "min       1.000000    0.000000    1.000000    0.420000    0.000000   \n",
            "25%     223.500000    0.000000    2.000000   20.125000    0.000000   \n",
            "50%     446.000000    0.000000    3.000000   28.000000    0.000000   \n",
            "75%     668.500000    1.000000    3.000000   38.000000    1.000000   \n",
            "max     891.000000    1.000000    3.000000   80.000000    8.000000   \n",
            "\n",
            "            Parch        Fare  \n",
            "count  891.000000  891.000000  \n",
            "mean     0.381594   32.204208  \n",
            "std      0.806057   49.693429  \n",
            "min      0.000000    0.000000  \n",
            "25%      0.000000    7.910400  \n",
            "50%      0.000000   14.454200  \n",
            "75%      0.000000   31.000000  \n",
            "max      6.000000  512.329200  \n"
          ]
        }
      ]
    },
    {
      "cell_type": "markdown",
      "source": [
        "Additional Tasks:"
      ],
      "metadata": {
        "id": "yWWEPe9AuLRQ"
      }
    },
    {
      "cell_type": "code",
      "source": [
        "# Task 1.1: Accept the user's first and last name as input\n",
        "first_name = input(\"Enter your first name: \")\n",
        "last_name = input(\"Enter your last name: \")\n",
        "\n",
        "#  Combine the names and print a welcome message\n",
        "full_name = first_name  + last_name\n",
        "print(f\"Welcome, {full_name}!\")\n",
        "\n",
        "# Create a list of five cities and print each in uppercase\n",
        "cities = [\"Karachi\", \"Lahore\", \"Islamabad\", \"Haripur\", \"Syria\"]\n",
        "\n",
        "print(\"\\nCities in uppercase:\")\n",
        "for city in cities:\n",
        "  #using upper function for displaying it in upper case\n",
        "    print(city.upper())\n"
      ],
      "metadata": {
        "colab": {
          "base_uri": "https://localhost:8080/"
        },
        "id": "g2WMDopouK28",
        "outputId": "3083694a-f95c-422f-bed8-1233585c6981"
      },
      "execution_count": 30,
      "outputs": [
        {
          "output_type": "stream",
          "name": "stdout",
          "text": [
            "Enter your first name: Ali\n",
            "Enter your last name: Abdullah\n",
            "Welcome, AliAbdullah!\n",
            "\n",
            "Cities in uppercase:\n",
            "KARACHI\n",
            "LAHORE\n",
            "ISLAMABAD\n",
            "HARIPUR\n",
            "SYRIA\n"
          ]
        }
      ]
    },
    {
      "cell_type": "code",
      "source": [
        "# Task 2.1: Function to return the maximum number from a list\n",
        "def find_max(numbers):\n",
        "    return max(numbers)\n",
        "\n",
        "# Define the list of numbers\n",
        "numbers = [3, 5, 8, 13, 21]\n",
        "\n",
        "# Print the maximum number in the list\n",
        "print(f\"The maximum number is: {find_max(numbers)}\")\n",
        "\n",
        "# Task 2.2: Function to check if a number is prime\n",
        "def is_prime(number):\n",
        "    if number <= 1:\n",
        "        return False\n",
        "    for i in range(2, int(number**0.5) + 1):\n",
        "        if number % i == 0:\n",
        "            return False\n",
        "    return True\n",
        "\n",
        "# Task 2.3: Loop to check if numbers from 1 to 20 are prime\n",
        "for num in range(1, 21):\n",
        "    if is_prime(num):\n",
        "        print(f\"{num} is a prime number\")\n",
        "    else:\n",
        "        print(f\"{num} is not a prime number\")\n"
      ],
      "metadata": {
        "colab": {
          "base_uri": "https://localhost:8080/"
        },
        "id": "-mwGJxjSuxET",
        "outputId": "054c98db-7924-47bc-d55b-129668571e83"
      },
      "execution_count": 31,
      "outputs": [
        {
          "output_type": "stream",
          "name": "stdout",
          "text": [
            "The maximum number is: 21\n",
            "1 is not a prime number\n",
            "2 is a prime number\n",
            "3 is a prime number\n",
            "4 is not a prime number\n",
            "5 is a prime number\n",
            "6 is not a prime number\n",
            "7 is a prime number\n",
            "8 is not a prime number\n",
            "9 is not a prime number\n",
            "10 is not a prime number\n",
            "11 is a prime number\n",
            "12 is not a prime number\n",
            "13 is a prime number\n",
            "14 is not a prime number\n",
            "15 is not a prime number\n",
            "16 is not a prime number\n",
            "17 is a prime number\n",
            "18 is not a prime number\n",
            "19 is a prime number\n",
            "20 is not a prime number\n"
          ]
        }
      ]
    },
    {
      "cell_type": "code",
      "source": [
        "\n",
        "# Task 3.1: Create a NumPy array of 10 random integers between 1 and 50\n",
        "random_array = np.random.randint(1, 51, size=10)#putting condition of random\n",
        "print(f\"Random Array: {random_array}\")\n",
        "\n",
        "# Task 3.2: Calculate the sum, mean, and standard deviation of the array\n",
        "array_sum = np.sum(random_array)\n",
        "array_mean = np.mean(random_array)\n",
        "array_std = np.std(random_array)\n",
        "\n",
        "print(f\"Sum: {array_sum}\")\n",
        "print(f\"Mean: {array_mean}\")\n",
        "print(f\"Standard Deviation: {array_std}\")\n",
        "\n",
        "# Task 3.3: Sort the array in ascending order and print the sorted array\n",
        "sorted_array = np.sort(random_array)\n",
        "print(f\"Sorted Array: {sorted_array}\")"
      ],
      "metadata": {
        "colab": {
          "base_uri": "https://localhost:8080/"
        },
        "id": "IXt5Rewhxvw8",
        "outputId": "53a53e95-e1e0-439c-f667-e103bac76208"
      },
      "execution_count": 32,
      "outputs": [
        {
          "output_type": "stream",
          "name": "stdout",
          "text": [
            "Random Array: [27 15 43  4 19 14 18 48 13 22]\n",
            "Sum: 223\n",
            "Mean: 22.3\n",
            "Standard Deviation: 12.977287852244011\n",
            "Sorted Array: [ 4 13 14 15 18 19 22 27 43 48]\n"
          ]
        }
      ]
    },
    {
      "cell_type": "code",
      "source": [
        "\n",
        "# Task 4.1: Create a Pandas DataFrame with three columns: Name, Age, and Score\n",
        "data = {\n",
        "    \"Name\": [\"Ali\", \"Babar\", \"Sheharyar\", \"Daniyal\", \"Eisa\"],\n",
        "    \"Age\": [20, 21, 19, 22, 20],\n",
        "    \"Score\": [85, 65, 78, 90, 55]\n",
        "}\n",
        "\n",
        "df = pd.DataFrame(data)\n",
        "\n",
        "# Task 4.2: Add data for at least five students\n",
        "print(\"Student Data:\")\n",
        "print(df)\n",
        "\n",
        "# Task 4.3: Calculate the average score\n",
        "average_score = df[\"Score\"].mean()\n",
        "print(f\"\\nAverage Score: {average_score}\")\n",
        "\n",
        "# Task 4.4: Filter out students who scored below 70\n",
        "passed_students = df[df[\"Score\"] >= 70]\n",
        "\n",
        "# Task 4.5: Print the names of students who passed\n",
        "print(\"\\nStudents who passed (Score 70 or above):\")\n",
        "print(passed_students[\"Name\"].to_string(index=False))"
      ],
      "metadata": {
        "colab": {
          "base_uri": "https://localhost:8080/"
        },
        "id": "xycpFzH6yBtq",
        "outputId": "cf5d9513-099f-47dd-b3e9-0b5fc5566246"
      },
      "execution_count": 34,
      "outputs": [
        {
          "output_type": "stream",
          "name": "stdout",
          "text": [
            "Student Data:\n",
            "        Name  Age  Score\n",
            "0        Ali   20     85\n",
            "1      Babar   21     65\n",
            "2  Sheharyar   19     78\n",
            "3    Daniyal   22     90\n",
            "4       Eisa   20     55\n",
            "\n",
            "Average Score: 74.6\n",
            "\n",
            "Students who passed (Score 70 or above):\n",
            "      Ali\n",
            "Sheharyar\n",
            "  Daniyal\n"
          ]
        }
      ]
    }
  ]
}