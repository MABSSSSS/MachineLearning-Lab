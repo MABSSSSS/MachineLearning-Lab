{
  "nbformat": 4,
  "nbformat_minor": 0,
  "metadata": {
    "colab": {
      "provenance": []
    },
    "kernelspec": {
      "name": "python3",
      "display_name": "Python 3"
    },
    "language_info": {
      "name": "python"
    }
  },
  "cells": [
    {
      "cell_type": "code",
      "execution_count": 1,
      "metadata": {
        "colab": {
          "base_uri": "https://localhost:8080/"
        },
        "id": "02TH-riu1gOJ",
        "outputId": "b83ce254-b21d-42a2-e79b-e7b212dd1850"
      },
      "outputs": [
        {
          "output_type": "stream",
          "name": "stdout",
          "text": [
            "The first 10 Fibonacci numbers are: [0, 1, 1, 2, 3, 5, 8, 13, 21, 34]\n"
          ]
        }
      ],
      "source": [
        "# Function to generate Fibonacci numbers\n",
        "def fibonacci(n):\n",
        "    fib_sequence = [0, 1]  # Starting values for the sequence\n",
        "    for i in range(2, n):\n",
        "        next_value = fib_sequence[-1] + fib_sequence[-2]  # Sum of the last two numbers\n",
        "        fib_sequence.append(next_value)\n",
        "    return fib_sequence\n",
        "\n",
        "# Generate the first 10 Fibonacci numbers\n",
        "n = 10\n",
        "fib_numbers = fibonacci(n)\n",
        "\n",
        "# Print the result\n",
        "print(f\"The first {n} Fibonacci numbers are: {fib_numbers}\")"
      ]
    }
  ]
}